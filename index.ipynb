{
 "cells": [
  {
   "cell_type": "markdown",
   "metadata": {},
   "source": [
    "# Welcome to ENN585 - Advanced Machine Learning\n",
    "\n",
    "This repository contains Jupyter Notebooks and other supporting resources for ENN585.\n",
    "\n",
    "The content is ordered by weeeks. Check the folders for each week in the navigation panel on the left of the Jupyter Lab environment.\n",
    "\n",
    "You will have to peridocally (i.e. every week) pull the updated content from Github. This is simply done by clicking on this link:\n",
    "https://jupyter.eres.qut.edu.au/hub/user-redirect/git-pull?repo=https%3A%2F%2Fgithub.com%2Fnikosuenderhauf%2Fenn585&urlpath=lab%2Ftree%2Fenn585%2Findex.ipynb&branch=main\n"
   ]
  }
 ],
 "metadata": {
  "kernelspec": {
   "display_name": "enn585",
   "language": "python",
   "name": "python3"
  },
  "language_info": {
   "codemirror_mode": {
    "name": "ipython",
    "version": 3
   },
   "file_extension": ".py",
   "mimetype": "text/x-python",
   "name": "python",
   "nbconvert_exporter": "python",
   "pygments_lexer": "ipython3",
   "version": "3.10.13"
  }
 },
 "nbformat": 4,
 "nbformat_minor": 2
}
